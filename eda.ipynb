{
 "cells": [
  {
   "cell_type": "markdown",
   "metadata": {},
   "source": [
    "# Libraries"
   ]
  },
  {
   "cell_type": "code",
   "execution_count": 1,
   "metadata": {},
   "outputs": [],
   "source": [
    "import os\n",
    "import pandas as pd\n",
    "import csv\n",
    "from datetime import datetime\n",
    "import glob"
   ]
  },
  {
   "cell_type": "markdown",
   "metadata": {},
   "source": [
    "# Functions"
   ]
  },
  {
   "cell_type": "code",
   "execution_count": 2,
   "metadata": {},
   "outputs": [],
   "source": [
    "# Open CSV delimiter ;\n",
    "def open_csv(file_path):\n",
    "    df = pd.read_csv(f\"{file_path}\", delimiter=';')\n",
    "    return df\n",
    "\n",
    "# Convert Excel to CSV\n",
    "def convert_excel_to_csv(root_dir):\n",
    "    for dirpath, dirnames, filenames in os.walk(root_dir):\n",
    "        for filename in filenames:\n",
    "            if filename.endswith('.xlsx'):\n",
    "                file_path = os.path.join(dirpath, filename)\n",
    "                try:                    \n",
    "                    df = pd.read_excel(file_path)                    \n",
    "                    \n",
    "                    csv_filename = os.path.splitext(filename)[0] + '.csv'\n",
    "                    csv_path = os.path.join(dirpath, csv_filename)                    \n",
    "                    \n",
    "                    df.to_csv(csv_path, index=False, sep=';')\n",
    "                    \n",
    "                    print(f\"Converted {filename} to {csv_filename}\")\n",
    "                except Exception as e:\n",
    "                    print(f\"Error converting {filename}: {str(e)}\")\n",
    "                finally:\n",
    "                    print(\"Conversion process completed.\")\n",
    "\n",
    "# Remove unnamed column from folder\n",
    "def remove_unnamed_column_from_folder(input_folder_path, output_folder_path):\n",
    "    os.makedirs(output_folder_path, exist_ok=True)\n",
    "    \n",
    "    csv_processed = False\n",
    "    \n",
    "    for item in os.listdir(input_folder_path):\n",
    "        item_path = os.path.join(input_folder_path, item)\n",
    "        \n",
    "        if os.path.isfile(item_path) and item.endswith('.csv'):\n",
    "            csv_processed = process_csv_file_unnamed(item_path, output_folder_path) or csv_processed\n",
    "        elif os.path.isdir(item_path):\n",
    "\n",
    "            sub_output_path = os.path.join(output_folder_path, item)\n",
    "            sub_csv_processed = remove_unnamed_column_from_folder(item_path, sub_output_path)\n",
    "            csv_processed = csv_processed or sub_csv_processed\n",
    "    \n",
    "    if not csv_processed:\n",
    "        print(f\"No CSV files found in {input_folder_path} or its subdirectories.\")\n",
    "    else:\n",
    "        print(f\"Processing completed for {input_folder_path}\")\n",
    "    \n",
    "    return csv_processed\n",
    "\n",
    "# Process CSV file unnamed\n",
    "def process_csv_file_unnamed(input_file_path, output_folder_path):\n",
    "    filename = os.path.basename(input_file_path)\n",
    "    output_file_path = os.path.join(output_folder_path, filename)\n",
    "    \n",
    "    try:\n",
    "        with open(input_file_path, 'r') as file:\n",
    "            first_line = file.readline().strip()\n",
    "            if not (first_line.startswith(';') or first_line.startswith('Unnamed: 0;')):\n",
    "                print(f\"Skipping '{filename}': Does not start with ';' or 'Unnamed: 0;'\")\n",
    "                return False\n",
    "\n",
    "        df = pd.read_csv(input_file_path, delimiter=';')\n",
    "        \n",
    "        df_cleaned = df.iloc[:, 1:]\n",
    "        \n",
    "        df_cleaned.to_csv(output_file_path, index=False, sep=';')\n",
    "        print(f\"Successfully cleaned '{filename}' and saved to '{output_file_path}'\")\n",
    "        return True\n",
    "    except Exception as e:\n",
    "        print(f\"An error occurred while processing '{filename}': {e}\")\n",
    "        return False\n",
    "    \n",
    "# Add date column to csvs\n",
    "def add_date_column_to_csvs(folder_path):\n",
    "\n",
    "    for date_folder in os.listdir(folder_path):\n",
    "        full_path = os.path.join(folder_path, date_folder)\n",
    "        if not os.path.isdir(full_path):\n",
    "            continue\n",
    "\n",
    "        try:\n",
    "            folder_date = datetime.strptime(date_folder, \"%d-%m-%y\").date()\n",
    "        except ValueError:\n",
    "            print(f\"Skipping folder {date_folder}: Invalid date format\")\n",
    "            continue\n",
    "\n",
    "        for filename in os.listdir(full_path):\n",
    "            if filename.endswith('.csv'):\n",
    "                file_path = os.path.join(full_path, filename)\n",
    "                process_csv_file_dates(file_path, folder_date)\n",
    "\n",
    "    print(\"Process completed.\")\n",
    "\n",
    "# Process CSV file dates\n",
    "def process_csv_file_dates(file_path, folder_date):\n",
    "    try:\n",
    "        df = pd.read_csv(file_path, delimiter=';')\n",
    "        \n",
    "        df['Date'] = folder_date\n",
    "        \n",
    "        df.to_csv(file_path, index=False, sep=';')\n",
    "        print(f\"Added date column to {file_path}\")\n",
    "    except Exception as e:\n",
    "        print(f\"Error processing {file_path}: {str(e)}\")\n",
    "\n",
    "# Union CSV files\n",
    "def union_csv_files(base_path):\n",
    "\n",
    "    all_files = glob.glob(os.path.join(base_path, \"**\", \"*.csv\"), recursive=True)\n",
    "    \n",
    "    df_list = []\n",
    "    \n",
    "    for file in all_files:\n",
    "        try:\n",
    "            df = pd.read_csv(file, delimiter=';')\n",
    "            \n",
    "            df['SourceFile'] = os.path.basename(file)\n",
    "            df['SourceFolder'] = os.path.basename(os.path.dirname(file))\n",
    "            \n",
    "            df_list.append(df)\n",
    "            print(f\"Processed: {file}\")\n",
    "        except Exception as e:\n",
    "            print(f\"Error processing {file}: {e}\")\n",
    "    \n",
    "    if df_list:\n",
    "        combined_df = pd.concat(df_list, ignore_index=True)\n",
    "        print(f\"Total rows in combined DataFrame: {len(combined_df)}\")\n",
    "        return combined_df\n",
    "    else:\n",
    "        print(\"No CSV files were successfully processed.\")\n",
    "        return None"
   ]
  },
  {
   "cell_type": "markdown",
   "metadata": {},
   "source": [
    "# January & March"
   ]
  },
  {
   "cell_type": "code",
   "execution_count": 65,
   "metadata": {},
   "outputs": [],
   "source": [
    "def convert_excel_to_csv(root_dir):\n",
    "    for dirpath, dirnames, filenames in os.walk(root_dir):\n",
    "        for filename in filenames:\n",
    "            if filename.endswith('.xlsx'):\n",
    "                file_path = os.path.join(dirpath, filename)\n",
    "                try:\n",
    "                    \n",
    "                    df = pd.read_excel(file_path)\n",
    "                    \n",
    "                    \n",
    "                    csv_filename = os.path.splitext(filename)[0] + '.csv'\n",
    "                    csv_path = os.path.join(dirpath, csv_filename)\n",
    "                    \n",
    "                    \n",
    "                    df.to_csv(csv_path, index=False, sep=';')\n",
    "                    \n",
    "                    print(f\"Converted {filename} to {csv_filename}\")\n",
    "                except Exception as e:\n",
    "                    print(f\"Error converting {filename}: {str(e)}\")\n",
    "                finally:\n",
    "                    print(\"Conversion process completed.\")"
   ]
  },
  {
   "cell_type": "code",
   "execution_count": null,
   "metadata": {},
   "outputs": [],
   "source": [
    "convert_excel_to_csv('/Users/jesusadraz/Documents/marsh/src/data/Transactions/Transacciones/2024/01 January/04-01-24/')"
   ]
  },
  {
   "cell_type": "code",
   "execution_count": null,
   "metadata": {},
   "outputs": [],
   "source": [
    "january_4_1 = open_csv('/Users/jesusadraz/Documents/marsh/src/data/Transactions/Transacciones/2024/01 January/04-01-24/DataTrans_1.csv')\n",
    "january_4_1.head()"
   ]
  },
  {
   "cell_type": "code",
   "execution_count": 80,
   "metadata": {},
   "outputs": [],
   "source": [
    "def add_date_column_to_csvs(base_path):\n",
    "    \n",
    "    full_path = os.path.join(base_path, \"01 January\", \"04-01-24\")\n",
    "    \n",
    "    \n",
    "    folder_date = datetime.strptime(\"04-01-24\", \"%d-%m-%y\").date()\n",
    "    \n",
    "    \n",
    "    for filename in os.listdir(full_path):\n",
    "        if filename.endswith('.csv'):\n",
    "            file_path = os.path.join(full_path, filename)\n",
    "            \n",
    "            \n",
    "            df = pd.read_csv(file_path, delimiter=';')\n",
    "            \n",
    "            \n",
    "            df['Date'] = folder_date\n",
    "            \n",
    "            \n",
    "            df.to_csv(file_path, index=False, sep=';')\n",
    "            \n",
    "            print(f\"Added date column to {filename}\")\n",
    "\n",
    "    print(\"Process completed.\")"
   ]
  },
  {
   "cell_type": "code",
   "execution_count": null,
   "metadata": {},
   "outputs": [],
   "source": [
    "base_path = \"/Users/jesusadraz/Documents/marsh/src/data/Transactions/Transacciones/2024/\" \n",
    "add_date_column_to_csvs(base_path)"
   ]
  },
  {
   "cell_type": "code",
   "execution_count": null,
   "metadata": {},
   "outputs": [],
   "source": [
    "january_11 = open_csv('/Users/jesusadraz/Documents/marsh/src/data/Transactions/Transacciones/2024/01 January/11-01-24/DataTrans_1.csv')\n",
    "january_11.head()"
   ]
  },
  {
   "cell_type": "code",
   "execution_count": 114,
   "metadata": {},
   "outputs": [],
   "source": [
    "def remove_unnamed_column_from_folder(input_folder_path, output_folder_path):\n",
    "\n",
    "    \n",
    "    os.makedirs(output_folder_path, exist_ok=True)\n",
    "    \n",
    "    \n",
    "    for filename in os.listdir(input_folder_path):\n",
    "        if filename.endswith('.csv'):\n",
    "            input_file_path = os.path.join(input_folder_path, filename)\n",
    "            output_file_path = os.path.join(output_folder_path, filename)\n",
    "            \n",
    "            try:\n",
    "                \n",
    "                with open(input_file_path, 'r') as file:\n",
    "                    first_char = file.read(1)\n",
    "                \n",
    "                if first_char != ';':\n",
    "                    print(f\"Skipping '{filename}': Does not start with a semicolon\")\n",
    "                    continue\n",
    "                \n",
    "                \n",
    "                df = pd.read_csv(input_file_path, delimiter=';')\n",
    "                \n",
    "                \n",
    "                df_cleaned = df.iloc[:, 1:]\n",
    "                \n",
    "                \n",
    "                df_cleaned.to_csv(output_file_path, index=False, sep=';')\n",
    "                \n",
    "                print(f\"Successfully cleaned '{filename}' and saved to '{output_file_path}'\")\n",
    "            except Exception as e:\n",
    "                print(f\"An error occurred while processing '{filename}': {e}\")\n",
    "\n",
    "    print(\"Processing completed.\")"
   ]
  },
  {
   "cell_type": "code",
   "execution_count": null,
   "metadata": {},
   "outputs": [],
   "source": [
    "input_folder = \"/Users/jesusadraz/Documents/marsh/src/data/Transactions/Transacciones/2024/01 January/11-01-24\"\n",
    "output_folder = \"/Users/jesusadraz/Documents/marsh/src/data/Transactions/Transacciones/2024/01 January/11-01-24\"\n",
    "remove_unnamed_column_from_folder(input_folder, output_folder)"
   ]
  },
  {
   "cell_type": "code",
   "execution_count": null,
   "metadata": {},
   "outputs": [],
   "source": [
    "january_11_v1 = open_csv('/Users/jesusadraz/Documents/marsh/src/data/Transactions/Transacciones/2024/01 January/11-01-24/DataTrans_3.csv')\n",
    "january_11_v1.head()"
   ]
  },
  {
   "cell_type": "code",
   "execution_count": 130,
   "metadata": {},
   "outputs": [],
   "source": [
    "def add_date_column_to_csvs(base_path):\n",
    "    # Construct the full path\n",
    "    full_path = os.path.join(base_path, \"01 January\", \"11-01-24\")\n",
    "    \n",
    "    # Extract the date from the folder name\n",
    "    folder_date = datetime.strptime(\"11-01-24\", \"%d-%m-%y\").date()\n",
    "    \n",
    "    # Iterate through all files in the directory\n",
    "    for filename in os.listdir(full_path):\n",
    "        if filename.endswith('.csv'):\n",
    "            file_path = os.path.join(full_path, filename)\n",
    "            \n",
    "            # Read the CSV file\n",
    "            df = pd.read_csv(file_path, delimiter=';')\n",
    "            \n",
    "            # Add the new date column\n",
    "            df['Date'] = folder_date\n",
    "            \n",
    "            # Save the modified CSV\n",
    "            df.to_csv(file_path, index=False, sep=';')\n",
    "            \n",
    "            print(f\"Added date column to {filename}\")\n",
    "\n",
    "    print(\"Process completed.\")"
   ]
  },
  {
   "cell_type": "code",
   "execution_count": null,
   "metadata": {},
   "outputs": [],
   "source": [
    "base_path = \"/Users/jesusadraz/Documents/marsh/src/data/Transactions/Transacciones/2024/\"\n",
    "add_date_column_to_csvs(base_path)"
   ]
  },
  {
   "cell_type": "code",
   "execution_count": null,
   "metadata": {},
   "outputs": [],
   "source": [
    "january_11_v2 = open_csv('/Users/jesusadraz/Documents/marsh/src/data/Transactions/Transacciones/2024/01 January/11-01-24/DataTrans_3.csv')\n",
    "january_11_v2.head()"
   ]
  },
  {
   "cell_type": "code",
   "execution_count": null,
   "metadata": {},
   "outputs": [],
   "source": [
    "january_26_v3 = open_csv('/Users/jesusadraz/Documents/marsh/src/data/Transactions/Transacciones/2024/01 January/26-01-24/DataTrans_0.csv')\n",
    "january_26_v3.head()"
   ]
  },
  {
   "cell_type": "code",
   "execution_count": null,
   "metadata": {},
   "outputs": [],
   "source": [
    "convert_excel_to_csv('/Users/jesusadraz/Documents/marsh/src/data/Transactions/Transacciones/2024/01 January/26-01-24/')"
   ]
  },
  {
   "cell_type": "code",
   "execution_count": null,
   "metadata": {},
   "outputs": [],
   "source": [
    "january_26_v3 = open_csv('/Users/jesusadraz/Documents/marsh/src/data/Transactions/Transacciones/2024/01 January/26-01-24/DataTrans_3.csv')\n",
    "january_26_v3.head()"
   ]
  },
  {
   "cell_type": "code",
   "execution_count": 151,
   "metadata": {},
   "outputs": [],
   "source": [
    "def add_date_column_to_csvs(base_path):\n",
    "    full_path = os.path.join(base_path, \"01 January\", \"26-01-24\")\n",
    "    \n",
    "    folder_date = datetime.strptime(\"26-01-24\", \"%d-%m-%y\").date()\n",
    "    \n",
    "    for filename in os.listdir(full_path):\n",
    "        if filename.endswith('.csv'):\n",
    "            file_path = os.path.join(full_path, filename)\n",
    "            \n",
    "            df = pd.read_csv(file_path, delimiter=';')\n",
    "            \n",
    "            df['Date'] = folder_date\n",
    "            \n",
    "            df.to_csv(file_path, index=False, sep=';')\n",
    "            \n",
    "            print(f\"Added date column to {filename}\")\n",
    "\n",
    "    print(\"Process completed.\")"
   ]
  },
  {
   "cell_type": "code",
   "execution_count": null,
   "metadata": {},
   "outputs": [],
   "source": [
    "base_path = \"/Users/jesusadraz/Documents/marsh/src/data/Transactions/Transacciones/2024/\"  \n",
    "add_date_column_to_csvs(base_path)"
   ]
  },
  {
   "cell_type": "code",
   "execution_count": null,
   "metadata": {},
   "outputs": [],
   "source": [
    "january_26_v4 = open_csv('/Users/jesusadraz/Documents/marsh/src/data/Transactions/Transacciones/2024/01 January/26-01-24/DataTrans_0.csv')\n",
    "january_26_v4.head()"
   ]
  },
  {
   "cell_type": "code",
   "execution_count": null,
   "metadata": {},
   "outputs": [],
   "source": [
    "def union_csv_files(base_path):\n",
    "    all_files = glob.glob(os.path.join(base_path, \"**\", \"*.csv\"), recursive=True)\n",
    "    \n",
    "    df_list = []\n",
    "    \n",
    "    for file in all_files:\n",
    "        try:\n",
    "            df = pd.read_csv(file, delimiter=';')\n",
    "\n",
    "            df['SourceFile'] = os.path.basename(file)\n",
    "            df['SourceFolder'] = os.path.basename(os.path.dirname(file))\n",
    "            \n",
    "            df_list.append(df)\n",
    "            print(f\"Processed: {file}\")\n",
    "        except Exception as e:\n",
    "            print(f\"Error processing {file}: {e}\")\n",
    "    \n",
    "    if df_list:\n",
    "        combined_df = pd.concat(df_list, ignore_index=True)\n",
    "        print(f\"Total rows in combined DataFrame: {len(combined_df)}\")\n",
    "        return combined_df\n",
    "    else:\n",
    "        print(\"No CSV files were successfully processed.\")\n",
    "        return None\n",
    "\n",
    "base_path = \"/Users/jesusadraz/Documents/marsh/src/data/Transactions/Transacciones/2024/01 January\"\n",
    "result_df = union_csv_files(base_path)\n",
    "\n",
    "if result_df is not None:\n",
    "    output_path = os.path.join(base_path, \"january_2024.csv\")\n",
    "    result_df.to_csv(output_path, index=False, sep=';')\n",
    "    print(f\"Combined CSV saved to: {output_path}\")"
   ]
  },
  {
   "cell_type": "code",
   "execution_count": null,
   "metadata": {},
   "outputs": [],
   "source": [
    "january = open_csv('/Users/jesusadraz/Documents/marsh/src/data/Transactions/Transacciones/2024/01 January/january_2024.csv')\n",
    "january.head()"
   ]
  },
  {
   "cell_type": "code",
   "execution_count": null,
   "metadata": {},
   "outputs": [],
   "source": [
    "january_grouped = january.groupby('Date')['Transaction'].sum()\n",
    "january_grouped"
   ]
  },
  {
   "cell_type": "code",
   "execution_count": null,
   "metadata": {},
   "outputs": [],
   "source": [
    "def convert_excel_to_csv(root_dir):\n",
    "    for dirpath, dirnames, filenames in os.walk(root_dir):\n",
    "        for filename in filenames:\n",
    "            if filename.endswith('.xlsx'):\n",
    "                file_path = os.path.join(dirpath, filename)\n",
    "                try:\n",
    "                    df = pd.read_excel(file_path)\n",
    "                    \n",
    "                    csv_filename = os.path.splitext(filename)[0] + '.csv'\n",
    "                    csv_path = os.path.join(dirpath, csv_filename)\n",
    "                    \n",
    "                    df.to_csv(csv_path, index=False, sep=';')\n",
    "                    \n",
    "                    print(f\"Converted {filename} to {csv_filename}\")\n",
    "                except Exception as e:\n",
    "                    print(f\"Error converting {filename}: {str(e)}\")\n",
    "                finally:\n",
    "                    print(\"Conversion process completed.\")"
   ]
  },
  {
   "cell_type": "code",
   "execution_count": null,
   "metadata": {},
   "outputs": [],
   "source": [
    "convert_excel_to_csv('/Users/jesusadraz/Documents/marsh/src/data/Transactions/Transacciones/2024/03 March/')"
   ]
  },
  {
   "cell_type": "code",
   "execution_count": 168,
   "metadata": {},
   "outputs": [],
   "source": [
    "def remove_unnamed_column_from_folder(input_folder_path, output_folder_path):\n",
    "    os.makedirs(output_folder_path, exist_ok=True)\n",
    "    \n",
    "    for filename in os.listdir(input_folder_path):\n",
    "        if filename.endswith('.csv'):\n",
    "            input_file_path = os.path.join(input_folder_path, filename)\n",
    "            output_file_path = os.path.join(output_folder_path, filename)\n",
    "            \n",
    "            try:\n",
    "                with open(input_file_path, 'r') as file:\n",
    "                    first_line = file.readline().strip()\n",
    "                \n",
    "                if not (first_line.startswith(';') or first_line.startswith('Unnamed: 0;')):\n",
    "                    print(f\"Skipping '{filename}': Does not start with ';' or 'Unnamed: 0;'\")\n",
    "                    continue\n",
    "                \n",
    "                df = pd.read_csv(input_file_path, delimiter=';')\n",
    "\n",
    "                df_cleaned = df.iloc[:, 1:]\n",
    "                \n",
    "                df_cleaned.to_csv(output_file_path, index=False, sep=';')\n",
    "                \n",
    "                print(f\"Successfully cleaned '{filename}' and saved to '{output_file_path}'\")\n",
    "            except Exception as e:\n",
    "                print(f\"An error occurred while processing '{filename}': {e}\")\n",
    "\n",
    "    print(\"Processing completed.\")"
   ]
  },
  {
   "cell_type": "code",
   "execution_count": null,
   "metadata": {},
   "outputs": [],
   "source": [
    "input_folder = \"/Users/jesusadraz/Documents/marsh/src/data/Transactions/Transacciones/2024/03 March/03-03-24\"\n",
    "output_folder = \"/Users/jesusadraz/Documents/marsh/src/data/Transactions/Transacciones/2024/03 March/03-03-24\"\n",
    "remove_unnamed_column_from_folder(input_folder, output_folder)"
   ]
  },
  {
   "cell_type": "code",
   "execution_count": null,
   "metadata": {},
   "outputs": [],
   "source": [
    "input_folder = \"/Users/jesusadraz/Documents/marsh/src/data/Transactions/Transacciones/2024/03 March/23-03-24\"\n",
    "output_folder = \"/Users/jesusadraz/Documents/marsh/src/data/Transactions/Transacciones/2024/03 March/23-03-24\"\n",
    "remove_unnamed_column_from_folder(input_folder, output_folder)"
   ]
  },
  {
   "cell_type": "code",
   "execution_count": 196,
   "metadata": {},
   "outputs": [],
   "source": [
    "def add_date_column_to_csvs(base_path):\n",
    "    full_path = os.path.join(base_path, \"03 March\", \"05-03-24\")\n",
    "    \n",
    "    folder_date = datetime.strptime(\"05-03-24\", \"%d-%m-%y\").date()\n",
    "    \n",
    "    for filename in os.listdir(full_path):\n",
    "        if filename.endswith('.csv'):\n",
    "            file_path = os.path.join(full_path, filename)\n",
    "            \n",
    "            df = pd.read_csv(file_path, delimiter=';')\n",
    "            \n",
    "            df['Date'] = folder_date\n",
    "            \n",
    "            df.to_csv(file_path, index=False, sep=';')\n",
    "            \n",
    "            print(f\"Added date column to {filename}\")\n",
    "\n",
    "    print(\"Process completed.\")"
   ]
  },
  {
   "cell_type": "code",
   "execution_count": null,
   "metadata": {},
   "outputs": [],
   "source": [
    "base_path = \"/Users/jesusadraz/Documents/marsh/src/data/Transactions/Transacciones/2024/\"\n",
    "add_date_column_to_csvs(base_path)"
   ]
  },
  {
   "cell_type": "code",
   "execution_count": null,
   "metadata": {},
   "outputs": [],
   "source": [
    "def union_csv_files(base_path):\n",
    "    all_files = glob.glob(os.path.join(base_path, \"**\", \"*.csv\"), recursive=True)\n",
    "    \n",
    "    df_list = []\n",
    "    \n",
    "    for file in all_files:\n",
    "        try:\n",
    "            df = pd.read_csv(file, delimiter=';')\n",
    "            \n",
    "            df['SourceFile'] = os.path.basename(file)\n",
    "            df['SourceFolder'] = os.path.basename(os.path.dirname(file))\n",
    "            \n",
    "            df_list.append(df)\n",
    "            print(f\"Processed: {file}\")\n",
    "        except Exception as e:\n",
    "            print(f\"Error processing {file}: {e}\")\n",
    "    \n",
    "    if df_list:\n",
    "        combined_df = pd.concat(df_list, ignore_index=True)\n",
    "        print(f\"Total rows in combined DataFrame: {len(combined_df)}\")\n",
    "        return combined_df\n",
    "    else:\n",
    "        print(\"No CSV files were successfully processed.\")\n",
    "        return None\n",
    "\n",
    "base_path = \"/Users/jesusadraz/Documents/marsh/src/data/Transactions/Transacciones/2024/03 March\"\n",
    "result_df = union_csv_files(base_path)\n",
    "\n",
    "if result_df is not None:\n",
    "    output_path = os.path.join(base_path, \"march_2024.csv\")\n",
    "    result_df.to_csv(output_path, index=False, sep=';')\n",
    "    print(f\"Combined CSV saved to: {output_path}\")"
   ]
  },
  {
   "cell_type": "code",
   "execution_count": null,
   "metadata": {},
   "outputs": [],
   "source": [
    "march = open_csv('/Users/jesusadraz/Documents/marsh/src/data/Transactions/Transacciones/2024/03 March/march_2024.csv')\n",
    "march.head()"
   ]
  },
  {
   "cell_type": "markdown",
   "metadata": {},
   "source": [
    "# February"
   ]
  },
  {
   "cell_type": "code",
   "execution_count": null,
   "metadata": {},
   "outputs": [],
   "source": [
    "february_path = '/Users/jesusadraz/Documents/marsh/src/data/Transactions/Transacciones/2024/02 February/'"
   ]
  },
  {
   "cell_type": "markdown",
   "metadata": {},
   "source": [
    "## Excel"
   ]
  },
  {
   "cell_type": "code",
   "execution_count": null,
   "metadata": {},
   "outputs": [],
   "source": [
    "convert_excel_to_csv(february_path)"
   ]
  },
  {
   "cell_type": "markdown",
   "metadata": {},
   "source": [
    "## Unnamed Columns"
   ]
  },
  {
   "cell_type": "code",
   "execution_count": null,
   "metadata": {},
   "outputs": [],
   "source": [
    "remove_unnamed_column_from_folder(february_path, february_path)"
   ]
  },
  {
   "cell_type": "markdown",
   "metadata": {},
   "source": [
    "## Add Dates"
   ]
  },
  {
   "cell_type": "code",
   "execution_count": null,
   "metadata": {},
   "outputs": [],
   "source": [
    "add_date_column_to_csvs(february_path)"
   ]
  },
  {
   "cell_type": "markdown",
   "metadata": {},
   "source": [
    "## Union All"
   ]
  },
  {
   "cell_type": "code",
   "execution_count": null,
   "metadata": {},
   "outputs": [],
   "source": [
    "result_df = union_csv_files(february_path)\n",
    "\n",
    "if result_df is not None:\n",
    "    output_path = os.path.join(february_path, \"february_2024.csv\")\n",
    "    result_df.to_csv(output_path, index=False, sep=';')\n",
    "    print(f\"Combined CSV saved to: {output_path}\")"
   ]
  },
  {
   "cell_type": "markdown",
   "metadata": {},
   "source": [
    "# April"
   ]
  },
  {
   "cell_type": "code",
   "execution_count": null,
   "metadata": {},
   "outputs": [],
   "source": [
    "april_path = '/Users/jesusadraz/Documents/marsh/src/data/Transactions/Transacciones/2024/04 April/'"
   ]
  },
  {
   "cell_type": "markdown",
   "metadata": {},
   "source": [
    "## Excel"
   ]
  },
  {
   "cell_type": "code",
   "execution_count": null,
   "metadata": {},
   "outputs": [],
   "source": [
    "convert_excel_to_csv(april_path)"
   ]
  },
  {
   "cell_type": "markdown",
   "metadata": {},
   "source": [
    "## Unnamed Columns"
   ]
  },
  {
   "cell_type": "code",
   "execution_count": null,
   "metadata": {},
   "outputs": [],
   "source": [
    "remove_unnamed_column_from_folder(april_path, april_path)"
   ]
  },
  {
   "cell_type": "markdown",
   "metadata": {},
   "source": [
    "## Add Date"
   ]
  },
  {
   "cell_type": "code",
   "execution_count": null,
   "metadata": {},
   "outputs": [],
   "source": [
    "add_date_column_to_csvs(april_path)"
   ]
  },
  {
   "cell_type": "markdown",
   "metadata": {},
   "source": [
    "## Union All"
   ]
  },
  {
   "cell_type": "code",
   "execution_count": null,
   "metadata": {},
   "outputs": [],
   "source": [
    "result_df = union_csv_files(april_path)\n",
    "\n",
    "if result_df is not None:\n",
    "    output_path = os.path.join(april_path, \"april_2024.csv\")\n",
    "    result_df.to_csv(output_path, index=False, sep=';')\n",
    "    print(f\"Combined CSV saved to: {output_path}\")"
   ]
  },
  {
   "cell_type": "markdown",
   "metadata": {},
   "source": [
    "# May"
   ]
  },
  {
   "cell_type": "code",
   "execution_count": null,
   "metadata": {},
   "outputs": [],
   "source": [
    "may_path = '/Users/jesusadraz/Documents/marsh/src/data/Transactions/Transacciones/2024/05 May'"
   ]
  },
  {
   "cell_type": "markdown",
   "metadata": {},
   "source": [
    "## Excel"
   ]
  },
  {
   "cell_type": "code",
   "execution_count": null,
   "metadata": {},
   "outputs": [],
   "source": [
    "convert_excel_to_csv(may_path)"
   ]
  },
  {
   "cell_type": "markdown",
   "metadata": {},
   "source": [
    "## Unnamed Columns"
   ]
  },
  {
   "cell_type": "code",
   "execution_count": null,
   "metadata": {},
   "outputs": [],
   "source": [
    "remove_unnamed_column_from_folder(may_path, may_path)"
   ]
  },
  {
   "cell_type": "markdown",
   "metadata": {},
   "source": [
    "## Add Dates"
   ]
  },
  {
   "cell_type": "code",
   "execution_count": null,
   "metadata": {},
   "outputs": [],
   "source": [
    "add_date_column_to_csvs(may_path)"
   ]
  },
  {
   "cell_type": "markdown",
   "metadata": {},
   "source": [
    "## Union All"
   ]
  },
  {
   "cell_type": "code",
   "execution_count": null,
   "metadata": {},
   "outputs": [],
   "source": [
    "result_df = union_csv_files(may_path)\n",
    "\n",
    "if result_df is not None:\n",
    "    output_path = os.path.join(may_path, \"may_2024.csv\")\n",
    "    result_df.to_csv(output_path, index=False, sep=';')\n",
    "    print(f\"Combined CSV saved to: {output_path}\")"
   ]
  },
  {
   "cell_type": "markdown",
   "metadata": {},
   "source": [
    "# June"
   ]
  },
  {
   "cell_type": "code",
   "execution_count": 79,
   "metadata": {},
   "outputs": [],
   "source": [
    "june_path = \"/Users/jesusadraz/Documents/marsh/src/data/Transactions/Transacciones/2024/06 June\""
   ]
  },
  {
   "cell_type": "markdown",
   "metadata": {},
   "source": [
    "## Excel"
   ]
  },
  {
   "cell_type": "code",
   "execution_count": null,
   "metadata": {},
   "outputs": [],
   "source": [
    "convert_excel_to_csv(june_path)"
   ]
  },
  {
   "cell_type": "markdown",
   "metadata": {},
   "source": [
    "## Unnamed Columns"
   ]
  },
  {
   "cell_type": "code",
   "execution_count": null,
   "metadata": {},
   "outputs": [],
   "source": [
    "remove_unnamed_column_from_folder(june_path, june_path)"
   ]
  },
  {
   "cell_type": "markdown",
   "metadata": {},
   "source": [
    "## Add Dates"
   ]
  },
  {
   "cell_type": "code",
   "execution_count": null,
   "metadata": {},
   "outputs": [],
   "source": [
    "add_date_column_to_csvs(june_path)"
   ]
  },
  {
   "cell_type": "markdown",
   "metadata": {},
   "source": [
    "## Union All"
   ]
  },
  {
   "cell_type": "code",
   "execution_count": null,
   "metadata": {},
   "outputs": [],
   "source": [
    "result_df = union_csv_files(june_path)\n",
    "\n",
    "if result_df is not None:\n",
    "    output_path = os.path.join(base_path, \"june_2024.csv\")\n",
    "    result_df.to_csv(output_path, index=False, sep=';')\n",
    "    print(f\"Combined CSV saved to: {output_path}\")"
   ]
  },
  {
   "cell_type": "markdown",
   "metadata": {},
   "source": [
    "# July"
   ]
  },
  {
   "cell_type": "code",
   "execution_count": 89,
   "metadata": {},
   "outputs": [],
   "source": [
    "july_path = \"/Users/jesusadraz/Documents/marsh/src/data/Transactions/Transacciones/2024/07 July\""
   ]
  },
  {
   "cell_type": "markdown",
   "metadata": {},
   "source": [
    "## Excel"
   ]
  },
  {
   "cell_type": "code",
   "execution_count": null,
   "metadata": {},
   "outputs": [],
   "source": [
    "convert_excel_to_csv(july_path)"
   ]
  },
  {
   "cell_type": "markdown",
   "metadata": {},
   "source": [
    "## Unnamed Columns"
   ]
  },
  {
   "cell_type": "code",
   "execution_count": null,
   "metadata": {},
   "outputs": [],
   "source": [
    "remove_unnamed_column_from_folder(july_path, july_path)"
   ]
  },
  {
   "cell_type": "markdown",
   "metadata": {},
   "source": [
    "## Add Dates"
   ]
  },
  {
   "cell_type": "code",
   "execution_count": null,
   "metadata": {},
   "outputs": [],
   "source": [
    "add_date_column_to_csvs(july_path)"
   ]
  },
  {
   "cell_type": "markdown",
   "metadata": {},
   "source": [
    "## Union All"
   ]
  },
  {
   "cell_type": "code",
   "execution_count": null,
   "metadata": {},
   "outputs": [],
   "source": [
    "result_df = union_csv_files(july_path)\n",
    "\n",
    "if result_df is not None:\n",
    "    output_path = os.path.join(july_path, \"july_2024.csv\")\n",
    "    result_df.to_csv(output_path, index=False, sep=';')\n",
    "    print(f\"Combined CSV saved to: {output_path}\")"
   ]
  },
  {
   "cell_type": "markdown",
   "metadata": {},
   "source": [
    "# August"
   ]
  },
  {
   "cell_type": "code",
   "execution_count": 94,
   "metadata": {},
   "outputs": [],
   "source": [
    "august_path = \"/Users/jesusadraz/Documents/marsh/src/data/Transactions/Transacciones/2024/08 August\""
   ]
  },
  {
   "cell_type": "markdown",
   "metadata": {},
   "source": [
    "## Excel"
   ]
  },
  {
   "cell_type": "code",
   "execution_count": null,
   "metadata": {},
   "outputs": [],
   "source": [
    "convert_excel_to_csv(august_path)"
   ]
  },
  {
   "cell_type": "markdown",
   "metadata": {},
   "source": [
    "## Unnamed Columns"
   ]
  },
  {
   "cell_type": "code",
   "execution_count": null,
   "metadata": {},
   "outputs": [],
   "source": [
    "remove_unnamed_column_from_folder(august_path, august_path)"
   ]
  },
  {
   "cell_type": "markdown",
   "metadata": {},
   "source": [
    "## Add Dates"
   ]
  },
  {
   "cell_type": "code",
   "execution_count": null,
   "metadata": {},
   "outputs": [],
   "source": [
    "add_date_column_to_csvs(august_path)"
   ]
  },
  {
   "cell_type": "markdown",
   "metadata": {},
   "source": [
    "## Union All"
   ]
  },
  {
   "cell_type": "code",
   "execution_count": null,
   "metadata": {},
   "outputs": [],
   "source": [
    "result_df = union_csv_files(august_path)\n",
    "\n",
    "if result_df is not None:\n",
    "    output_path = os.path.join(august_path, \"august_2024.csv\")\n",
    "    result_df.to_csv(output_path, index=False, sep=';')\n",
    "    print(f\"Combined CSV saved to: {output_path}\")"
   ]
  },
  {
   "cell_type": "code",
   "execution_count": null,
   "metadata": {},
   "outputs": [],
   "source": [
    "august = open_csv(f\"{august_path}/august_2024.csv\")\n",
    "august.head()"
   ]
  },
  {
   "cell_type": "markdown",
   "metadata": {},
   "source": [
    "# September"
   ]
  },
  {
   "cell_type": "code",
   "execution_count": 101,
   "metadata": {},
   "outputs": [],
   "source": [
    "september_path = \"/Users/jesusadraz/Documents/marsh/src/data/Transactions/Transacciones/2024/09 September\""
   ]
  },
  {
   "cell_type": "markdown",
   "metadata": {},
   "source": [
    "## Excel"
   ]
  },
  {
   "cell_type": "code",
   "execution_count": null,
   "metadata": {},
   "outputs": [],
   "source": [
    "convert_excel_to_csv(september_path)"
   ]
  },
  {
   "cell_type": "markdown",
   "metadata": {},
   "source": [
    "## Unnamed Columns"
   ]
  },
  {
   "cell_type": "code",
   "execution_count": null,
   "metadata": {},
   "outputs": [],
   "source": [
    "remove_unnamed_column_from_folder(september_path, september_path)"
   ]
  },
  {
   "cell_type": "markdown",
   "metadata": {},
   "source": [
    "## Add Dates"
   ]
  },
  {
   "cell_type": "code",
   "execution_count": null,
   "metadata": {},
   "outputs": [],
   "source": [
    "add_date_column_to_csvs(september_path)"
   ]
  },
  {
   "cell_type": "markdown",
   "metadata": {},
   "source": [
    "## Union All"
   ]
  },
  {
   "cell_type": "code",
   "execution_count": null,
   "metadata": {},
   "outputs": [],
   "source": [
    "result_df = union_csv_files(september_path)\n",
    "\n",
    "if result_df is not None:\n",
    "    output_path = os.path.join(september_path, \"september_2024.csv\")\n",
    "    result_df.to_csv(output_path, index=False, sep=';')\n",
    "    print(f\"Combined CSV saved to: {output_path}\")"
   ]
  },
  {
   "cell_type": "markdown",
   "metadata": {},
   "source": [
    "# October"
   ]
  },
  {
   "cell_type": "code",
   "execution_count": 106,
   "metadata": {},
   "outputs": [],
   "source": [
    "october_path = \"/Users/jesusadraz/Documents/marsh/src/data/Transactions/Transacciones/2024/10 October\""
   ]
  },
  {
   "cell_type": "markdown",
   "metadata": {},
   "source": [
    "## Excel"
   ]
  },
  {
   "cell_type": "code",
   "execution_count": null,
   "metadata": {},
   "outputs": [],
   "source": [
    "convert_excel_to_csv(october_path)"
   ]
  },
  {
   "cell_type": "markdown",
   "metadata": {},
   "source": [
    "## Unnamed Columns"
   ]
  },
  {
   "cell_type": "code",
   "execution_count": null,
   "metadata": {},
   "outputs": [],
   "source": [
    "remove_unnamed_column_from_folder(october_path, october_path)"
   ]
  },
  {
   "cell_type": "markdown",
   "metadata": {},
   "source": [
    "## Add Dates"
   ]
  },
  {
   "cell_type": "code",
   "execution_count": null,
   "metadata": {},
   "outputs": [],
   "source": [
    "add_date_column_to_csvs(october_path)"
   ]
  },
  {
   "cell_type": "markdown",
   "metadata": {},
   "source": [
    "## Union All"
   ]
  },
  {
   "cell_type": "code",
   "execution_count": null,
   "metadata": {},
   "outputs": [],
   "source": [
    "result_df = union_csv_files(october_path)\n",
    "\n",
    "if result_df is not None:\n",
    "    output_path = os.path.join(october_path, \"october_2024.csv\")\n",
    "    result_df.to_csv(output_path, index=False, sep=';')\n",
    "    print(f\"Combined CSV saved to: {output_path}\")"
   ]
  },
  {
   "cell_type": "markdown",
   "metadata": {},
   "source": [
    "# November"
   ]
  },
  {
   "cell_type": "code",
   "execution_count": 111,
   "metadata": {},
   "outputs": [],
   "source": [
    "november_path = \"/Users/jesusadraz/Documents/marsh/src/data/Transactions/Transacciones/2024/11 November\""
   ]
  },
  {
   "cell_type": "markdown",
   "metadata": {},
   "source": [
    "## Excel"
   ]
  },
  {
   "cell_type": "code",
   "execution_count": null,
   "metadata": {},
   "outputs": [],
   "source": [
    "convert_excel_to_csv(november_path)"
   ]
  },
  {
   "cell_type": "markdown",
   "metadata": {},
   "source": [
    "## Unnamed Columns"
   ]
  },
  {
   "cell_type": "code",
   "execution_count": null,
   "metadata": {},
   "outputs": [],
   "source": [
    "remove_unnamed_column_from_folder(november_path, november_path)"
   ]
  },
  {
   "cell_type": "markdown",
   "metadata": {},
   "source": [
    "## Add Dates"
   ]
  },
  {
   "cell_type": "code",
   "execution_count": null,
   "metadata": {},
   "outputs": [],
   "source": [
    "add_date_column_to_csvs(november_path)"
   ]
  },
  {
   "cell_type": "markdown",
   "metadata": {},
   "source": [
    "## Union All"
   ]
  },
  {
   "cell_type": "code",
   "execution_count": null,
   "metadata": {},
   "outputs": [],
   "source": [
    "result_df = union_csv_files(november_path)\n",
    "\n",
    "if result_df is not None:\n",
    "    output_path = os.path.join(november_path, \"november_2024.csv\")\n",
    "    result_df.to_csv(output_path, index=False, sep=';')\n",
    "    print(f\"Combined CSV saved to: {output_path}\")"
   ]
  },
  {
   "cell_type": "markdown",
   "metadata": {},
   "source": [
    "# December"
   ]
  },
  {
   "cell_type": "code",
   "execution_count": 118,
   "metadata": {},
   "outputs": [],
   "source": [
    "december_path = \"/Users/jesusadraz/Documents/marsh/src/data/Transactions/Transacciones/2024/12 December\""
   ]
  },
  {
   "cell_type": "markdown",
   "metadata": {},
   "source": [
    "## Excel"
   ]
  },
  {
   "cell_type": "code",
   "execution_count": null,
   "metadata": {},
   "outputs": [],
   "source": [
    "convert_excel_to_csv(december_path)"
   ]
  },
  {
   "cell_type": "markdown",
   "metadata": {},
   "source": [
    "## Unnamed Columns"
   ]
  },
  {
   "cell_type": "code",
   "execution_count": null,
   "metadata": {},
   "outputs": [],
   "source": [
    "remove_unnamed_column_from_folder(december_path, december_path)"
   ]
  },
  {
   "cell_type": "markdown",
   "metadata": {},
   "source": [
    "## Add Dates"
   ]
  },
  {
   "cell_type": "code",
   "execution_count": null,
   "metadata": {},
   "outputs": [],
   "source": [
    "add_date_column_to_csvs(december_path)"
   ]
  },
  {
   "cell_type": "markdown",
   "metadata": {},
   "source": [
    "## Union All"
   ]
  },
  {
   "cell_type": "code",
   "execution_count": null,
   "metadata": {},
   "outputs": [],
   "source": [
    "result_df = union_csv_files(december_path)\n",
    "\n",
    "if result_df is not None:\n",
    "    output_path = os.path.join(december_path, \"december_2024.csv\")\n",
    "    result_df.to_csv(output_path, index=False, sep=';')\n",
    "    print(f\"Combined CSV saved to: {output_path}\")"
   ]
  },
  {
   "cell_type": "markdown",
   "metadata": {},
   "source": [
    "# Total"
   ]
  },
  {
   "cell_type": "code",
   "execution_count": 136,
   "metadata": {},
   "outputs": [],
   "source": [
    "total_path = \"/Users/jesusadraz/Documents/marsh/src/data/Transactions/Transacciones/2024/Total\""
   ]
  },
  {
   "cell_type": "code",
   "execution_count": null,
   "metadata": {},
   "outputs": [],
   "source": [
    "result_df = union_csv_files(total_path)\n",
    "\n",
    "if result_df is not None:\n",
    "    output_path = os.path.join(total_path, \"2024.csv\")\n",
    "    result_df.to_csv(output_path, index=False, sep=';')\n",
    "    print(f\"Combined CSV saved to: {output_path}\")"
   ]
  },
  {
   "cell_type": "code",
   "execution_count": 140,
   "metadata": {},
   "outputs": [],
   "source": [
    "total_df = open_csv(\"/Users/jesusadraz/Documents/marsh/src/data/Transactions/Transacciones/2024/Total/2024.csv\")"
   ]
  },
  {
   "cell_type": "markdown",
   "metadata": {},
   "source": [
    "# Merged"
   ]
  },
  {
   "cell_type": "code",
   "execution_count": null,
   "metadata": {},
   "outputs": [],
   "source": [
    "rates = pd.read_csv('/Users/jesusadraz/Documents/marsh/src/data/Transactions/2023-Budget-FX-Rates.csv')\n",
    "total = pd.read_csv('/Users/jesusadraz/Documents/marsh/src/data/Transactions/Transacciones/2024/Total/2024.csv', delimiter=';')"
   ]
  },
  {
   "cell_type": "code",
   "execution_count": null,
   "metadata": {},
   "outputs": [],
   "source": [
    "total['Transaction'] = total['Transaction'].round(2)"
   ]
  },
  {
   "cell_type": "code",
   "execution_count": null,
   "metadata": {},
   "outputs": [],
   "source": [
    "merged_df = pd.merge(total, rates, how='left', left_on='Currency', right_on='CURR CODE')"
   ]
  },
  {
   "cell_type": "code",
   "execution_count": null,
   "metadata": {},
   "outputs": [],
   "source": [
    "merged_df['USD'] = (merged_df['Transaction'] / merged_df['BUDGET RATE']).round(2)"
   ]
  },
  {
   "cell_type": "markdown",
   "metadata": {},
   "source": [
    "# Convert USD in Million"
   ]
  },
  {
   "cell_type": "code",
   "execution_count": 16,
   "metadata": {},
   "outputs": [],
   "source": [
    "df = pd.read_csv('/Users/jesusadraz/Documents/marsh/src/data/Transactions/2024.csv')"
   ]
  },
  {
   "cell_type": "code",
   "execution_count": 17,
   "metadata": {},
   "outputs": [
    {
     "data": {
      "text/html": [
       "<div>\n",
       "<style scoped>\n",
       "    .dataframe tbody tr th:only-of-type {\n",
       "        vertical-align: middle;\n",
       "    }\n",
       "\n",
       "    .dataframe tbody tr th {\n",
       "        vertical-align: top;\n",
       "    }\n",
       "\n",
       "    .dataframe thead th {\n",
       "        text-align: right;\n",
       "    }\n",
       "</style>\n",
       "<table border=\"1\" class=\"dataframe\">\n",
       "  <thead>\n",
       "    <tr style=\"text-align: right;\">\n",
       "      <th></th>\n",
       "      <th>Client</th>\n",
       "      <th>Country</th>\n",
       "      <th>Currency</th>\n",
       "      <th>Transaction</th>\n",
       "      <th>Date</th>\n",
       "      <th>SourceFile</th>\n",
       "      <th>SourceFolder</th>\n",
       "      <th>COUNTRY</th>\n",
       "      <th>CURRENCY</th>\n",
       "      <th>CURR CODE</th>\n",
       "      <th>BUDGET RATE</th>\n",
       "      <th>USD</th>\n",
       "    </tr>\n",
       "  </thead>\n",
       "  <tbody>\n",
       "    <tr>\n",
       "      <th>0</th>\n",
       "      <td>MXY11</td>\n",
       "      <td>KOREA, REPUBLIC OF</td>\n",
       "      <td>MOP</td>\n",
       "      <td>345127.88</td>\n",
       "      <td>2024-01-11</td>\n",
       "      <td>01_january_2024.csv</td>\n",
       "      <td>Total</td>\n",
       "      <td>MACAU</td>\n",
       "      <td>PATACA</td>\n",
       "      <td>MOP</td>\n",
       "      <td>0.124414</td>\n",
       "      <td>2.774034e+06</td>\n",
       "    </tr>\n",
       "    <tr>\n",
       "      <th>1</th>\n",
       "      <td>MXY11</td>\n",
       "      <td>SYRIAN ARAB REPUBLIC</td>\n",
       "      <td>NOK</td>\n",
       "      <td>7125.69</td>\n",
       "      <td>2024-01-11</td>\n",
       "      <td>01_january_2024.csv</td>\n",
       "      <td>Total</td>\n",
       "      <td>NORWAY</td>\n",
       "      <td>KRONE</td>\n",
       "      <td>NOK</td>\n",
       "      <td>0.097425</td>\n",
       "      <td>7.314022e+04</td>\n",
       "    </tr>\n",
       "    <tr>\n",
       "      <th>2</th>\n",
       "      <td>MXY11</td>\n",
       "      <td>EURO</td>\n",
       "      <td>BOB</td>\n",
       "      <td>245047.88</td>\n",
       "      <td>2024-01-11</td>\n",
       "      <td>01_january_2024.csv</td>\n",
       "      <td>Total</td>\n",
       "      <td>BOLIVIA</td>\n",
       "      <td>BOLIVIANO</td>\n",
       "      <td>BOB</td>\n",
       "      <td>0.144682</td>\n",
       "      <td>1.693697e+06</td>\n",
       "    </tr>\n",
       "    <tr>\n",
       "      <th>3</th>\n",
       "      <td>MXY11</td>\n",
       "      <td>DOMINICAN REPUBLIC</td>\n",
       "      <td>LKR</td>\n",
       "      <td>9968657.26</td>\n",
       "      <td>2024-01-11</td>\n",
       "      <td>01_january_2024.csv</td>\n",
       "      <td>Total</td>\n",
       "      <td>SRI LANKA</td>\n",
       "      <td>RUPEE</td>\n",
       "      <td>LKR</td>\n",
       "      <td>0.002721</td>\n",
       "      <td>3.663776e+09</td>\n",
       "    </tr>\n",
       "    <tr>\n",
       "      <th>4</th>\n",
       "      <td>MXY11</td>\n",
       "      <td>GHANA</td>\n",
       "      <td>PEN</td>\n",
       "      <td>147738.85</td>\n",
       "      <td>2024-01-11</td>\n",
       "      <td>01_january_2024.csv</td>\n",
       "      <td>Total</td>\n",
       "      <td>PERU</td>\n",
       "      <td>NEW SOL</td>\n",
       "      <td>PEN</td>\n",
       "      <td>0.250000</td>\n",
       "      <td>5.909554e+05</td>\n",
       "    </tr>\n",
       "  </tbody>\n",
       "</table>\n",
       "</div>"
      ],
      "text/plain": [
       "  Client               Country Currency  Transaction        Date  \\\n",
       "0  MXY11    KOREA, REPUBLIC OF      MOP    345127.88  2024-01-11   \n",
       "1  MXY11  SYRIAN ARAB REPUBLIC      NOK      7125.69  2024-01-11   \n",
       "2  MXY11                  EURO      BOB    245047.88  2024-01-11   \n",
       "3  MXY11    DOMINICAN REPUBLIC      LKR   9968657.26  2024-01-11   \n",
       "4  MXY11                 GHANA      PEN    147738.85  2024-01-11   \n",
       "\n",
       "            SourceFile SourceFolder    COUNTRY   CURRENCY CURR CODE  \\\n",
       "0  01_january_2024.csv        Total      MACAU     PATACA       MOP   \n",
       "1  01_january_2024.csv        Total     NORWAY      KRONE       NOK   \n",
       "2  01_january_2024.csv        Total    BOLIVIA  BOLIVIANO       BOB   \n",
       "3  01_january_2024.csv        Total  SRI LANKA      RUPEE       LKR   \n",
       "4  01_january_2024.csv        Total       PERU    NEW SOL       PEN   \n",
       "\n",
       "   BUDGET RATE           USD  \n",
       "0     0.124414  2.774034e+06  \n",
       "1     0.097425  7.314022e+04  \n",
       "2     0.144682  1.693697e+06  \n",
       "3     0.002721  3.663776e+09  \n",
       "4     0.250000  5.909554e+05  "
      ]
     },
     "execution_count": 17,
     "metadata": {},
     "output_type": "execute_result"
    }
   ],
   "source": [
    "df.head()"
   ]
  },
  {
   "cell_type": "code",
   "execution_count": 18,
   "metadata": {},
   "outputs": [],
   "source": [
    "def to_millions_usd(value):\n",
    "    return value / 1e6"
   ]
  },
  {
   "cell_type": "code",
   "execution_count": 19,
   "metadata": {},
   "outputs": [],
   "source": [
    "df['USD_M'] = df['USD'].apply(to_millions_usd)"
   ]
  },
  {
   "cell_type": "code",
   "execution_count": 20,
   "metadata": {},
   "outputs": [
    {
     "data": {
      "text/html": [
       "<div>\n",
       "<style scoped>\n",
       "    .dataframe tbody tr th:only-of-type {\n",
       "        vertical-align: middle;\n",
       "    }\n",
       "\n",
       "    .dataframe tbody tr th {\n",
       "        vertical-align: top;\n",
       "    }\n",
       "\n",
       "    .dataframe thead th {\n",
       "        text-align: right;\n",
       "    }\n",
       "</style>\n",
       "<table border=\"1\" class=\"dataframe\">\n",
       "  <thead>\n",
       "    <tr style=\"text-align: right;\">\n",
       "      <th></th>\n",
       "      <th>Client</th>\n",
       "      <th>Country</th>\n",
       "      <th>Currency</th>\n",
       "      <th>Transaction</th>\n",
       "      <th>Date</th>\n",
       "      <th>SourceFile</th>\n",
       "      <th>SourceFolder</th>\n",
       "      <th>COUNTRY</th>\n",
       "      <th>CURRENCY</th>\n",
       "      <th>CURR CODE</th>\n",
       "      <th>BUDGET RATE</th>\n",
       "      <th>USD</th>\n",
       "      <th>USD_M</th>\n",
       "    </tr>\n",
       "  </thead>\n",
       "  <tbody>\n",
       "    <tr>\n",
       "      <th>0</th>\n",
       "      <td>MXY11</td>\n",
       "      <td>KOREA, REPUBLIC OF</td>\n",
       "      <td>MOP</td>\n",
       "      <td>345127.88</td>\n",
       "      <td>2024-01-11</td>\n",
       "      <td>01_january_2024.csv</td>\n",
       "      <td>Total</td>\n",
       "      <td>MACAU</td>\n",
       "      <td>PATACA</td>\n",
       "      <td>MOP</td>\n",
       "      <td>0.124414</td>\n",
       "      <td>2.774034e+06</td>\n",
       "      <td>2.774034</td>\n",
       "    </tr>\n",
       "    <tr>\n",
       "      <th>1</th>\n",
       "      <td>MXY11</td>\n",
       "      <td>SYRIAN ARAB REPUBLIC</td>\n",
       "      <td>NOK</td>\n",
       "      <td>7125.69</td>\n",
       "      <td>2024-01-11</td>\n",
       "      <td>01_january_2024.csv</td>\n",
       "      <td>Total</td>\n",
       "      <td>NORWAY</td>\n",
       "      <td>KRONE</td>\n",
       "      <td>NOK</td>\n",
       "      <td>0.097425</td>\n",
       "      <td>7.314022e+04</td>\n",
       "      <td>0.073140</td>\n",
       "    </tr>\n",
       "    <tr>\n",
       "      <th>2</th>\n",
       "      <td>MXY11</td>\n",
       "      <td>EURO</td>\n",
       "      <td>BOB</td>\n",
       "      <td>245047.88</td>\n",
       "      <td>2024-01-11</td>\n",
       "      <td>01_january_2024.csv</td>\n",
       "      <td>Total</td>\n",
       "      <td>BOLIVIA</td>\n",
       "      <td>BOLIVIANO</td>\n",
       "      <td>BOB</td>\n",
       "      <td>0.144682</td>\n",
       "      <td>1.693697e+06</td>\n",
       "      <td>1.693697</td>\n",
       "    </tr>\n",
       "    <tr>\n",
       "      <th>3</th>\n",
       "      <td>MXY11</td>\n",
       "      <td>DOMINICAN REPUBLIC</td>\n",
       "      <td>LKR</td>\n",
       "      <td>9968657.26</td>\n",
       "      <td>2024-01-11</td>\n",
       "      <td>01_january_2024.csv</td>\n",
       "      <td>Total</td>\n",
       "      <td>SRI LANKA</td>\n",
       "      <td>RUPEE</td>\n",
       "      <td>LKR</td>\n",
       "      <td>0.002721</td>\n",
       "      <td>3.663776e+09</td>\n",
       "      <td>3663.775653</td>\n",
       "    </tr>\n",
       "    <tr>\n",
       "      <th>4</th>\n",
       "      <td>MXY11</td>\n",
       "      <td>GHANA</td>\n",
       "      <td>PEN</td>\n",
       "      <td>147738.85</td>\n",
       "      <td>2024-01-11</td>\n",
       "      <td>01_january_2024.csv</td>\n",
       "      <td>Total</td>\n",
       "      <td>PERU</td>\n",
       "      <td>NEW SOL</td>\n",
       "      <td>PEN</td>\n",
       "      <td>0.250000</td>\n",
       "      <td>5.909554e+05</td>\n",
       "      <td>0.590955</td>\n",
       "    </tr>\n",
       "  </tbody>\n",
       "</table>\n",
       "</div>"
      ],
      "text/plain": [
       "  Client               Country Currency  Transaction        Date  \\\n",
       "0  MXY11    KOREA, REPUBLIC OF      MOP    345127.88  2024-01-11   \n",
       "1  MXY11  SYRIAN ARAB REPUBLIC      NOK      7125.69  2024-01-11   \n",
       "2  MXY11                  EURO      BOB    245047.88  2024-01-11   \n",
       "3  MXY11    DOMINICAN REPUBLIC      LKR   9968657.26  2024-01-11   \n",
       "4  MXY11                 GHANA      PEN    147738.85  2024-01-11   \n",
       "\n",
       "            SourceFile SourceFolder    COUNTRY   CURRENCY CURR CODE  \\\n",
       "0  01_january_2024.csv        Total      MACAU     PATACA       MOP   \n",
       "1  01_january_2024.csv        Total     NORWAY      KRONE       NOK   \n",
       "2  01_january_2024.csv        Total    BOLIVIA  BOLIVIANO       BOB   \n",
       "3  01_january_2024.csv        Total  SRI LANKA      RUPEE       LKR   \n",
       "4  01_january_2024.csv        Total       PERU    NEW SOL       PEN   \n",
       "\n",
       "   BUDGET RATE           USD        USD_M  \n",
       "0     0.124414  2.774034e+06     2.774034  \n",
       "1     0.097425  7.314022e+04     0.073140  \n",
       "2     0.144682  1.693697e+06     1.693697  \n",
       "3     0.002721  3.663776e+09  3663.775653  \n",
       "4     0.250000  5.909554e+05     0.590955  "
      ]
     },
     "execution_count": 20,
     "metadata": {},
     "output_type": "execute_result"
    }
   ],
   "source": [
    "df.head()"
   ]
  },
  {
   "cell_type": "code",
   "execution_count": 24,
   "metadata": {},
   "outputs": [],
   "source": [
    "df['USD_M'] = df['USD_M'].round(2)"
   ]
  },
  {
   "cell_type": "code",
   "execution_count": 25,
   "metadata": {},
   "outputs": [
    {
     "data": {
      "text/html": [
       "<div>\n",
       "<style scoped>\n",
       "    .dataframe tbody tr th:only-of-type {\n",
       "        vertical-align: middle;\n",
       "    }\n",
       "\n",
       "    .dataframe tbody tr th {\n",
       "        vertical-align: top;\n",
       "    }\n",
       "\n",
       "    .dataframe thead th {\n",
       "        text-align: right;\n",
       "    }\n",
       "</style>\n",
       "<table border=\"1\" class=\"dataframe\">\n",
       "  <thead>\n",
       "    <tr style=\"text-align: right;\">\n",
       "      <th></th>\n",
       "      <th>Client</th>\n",
       "      <th>Country</th>\n",
       "      <th>Currency</th>\n",
       "      <th>Transaction</th>\n",
       "      <th>Date</th>\n",
       "      <th>SourceFile</th>\n",
       "      <th>SourceFolder</th>\n",
       "      <th>COUNTRY</th>\n",
       "      <th>CURRENCY</th>\n",
       "      <th>CURR CODE</th>\n",
       "      <th>BUDGET RATE</th>\n",
       "      <th>USD</th>\n",
       "      <th>USD_M</th>\n",
       "    </tr>\n",
       "  </thead>\n",
       "  <tbody>\n",
       "    <tr>\n",
       "      <th>0</th>\n",
       "      <td>MXY11</td>\n",
       "      <td>KOREA, REPUBLIC OF</td>\n",
       "      <td>MOP</td>\n",
       "      <td>345127.88</td>\n",
       "      <td>2024-01-11</td>\n",
       "      <td>01_january_2024.csv</td>\n",
       "      <td>Total</td>\n",
       "      <td>MACAU</td>\n",
       "      <td>PATACA</td>\n",
       "      <td>MOP</td>\n",
       "      <td>0.124414</td>\n",
       "      <td>2.774034e+06</td>\n",
       "      <td>2.77</td>\n",
       "    </tr>\n",
       "    <tr>\n",
       "      <th>1</th>\n",
       "      <td>MXY11</td>\n",
       "      <td>SYRIAN ARAB REPUBLIC</td>\n",
       "      <td>NOK</td>\n",
       "      <td>7125.69</td>\n",
       "      <td>2024-01-11</td>\n",
       "      <td>01_january_2024.csv</td>\n",
       "      <td>Total</td>\n",
       "      <td>NORWAY</td>\n",
       "      <td>KRONE</td>\n",
       "      <td>NOK</td>\n",
       "      <td>0.097425</td>\n",
       "      <td>7.314022e+04</td>\n",
       "      <td>0.07</td>\n",
       "    </tr>\n",
       "    <tr>\n",
       "      <th>2</th>\n",
       "      <td>MXY11</td>\n",
       "      <td>EURO</td>\n",
       "      <td>BOB</td>\n",
       "      <td>245047.88</td>\n",
       "      <td>2024-01-11</td>\n",
       "      <td>01_january_2024.csv</td>\n",
       "      <td>Total</td>\n",
       "      <td>BOLIVIA</td>\n",
       "      <td>BOLIVIANO</td>\n",
       "      <td>BOB</td>\n",
       "      <td>0.144682</td>\n",
       "      <td>1.693697e+06</td>\n",
       "      <td>1.69</td>\n",
       "    </tr>\n",
       "    <tr>\n",
       "      <th>3</th>\n",
       "      <td>MXY11</td>\n",
       "      <td>DOMINICAN REPUBLIC</td>\n",
       "      <td>LKR</td>\n",
       "      <td>9968657.26</td>\n",
       "      <td>2024-01-11</td>\n",
       "      <td>01_january_2024.csv</td>\n",
       "      <td>Total</td>\n",
       "      <td>SRI LANKA</td>\n",
       "      <td>RUPEE</td>\n",
       "      <td>LKR</td>\n",
       "      <td>0.002721</td>\n",
       "      <td>3.663776e+09</td>\n",
       "      <td>3663.78</td>\n",
       "    </tr>\n",
       "    <tr>\n",
       "      <th>4</th>\n",
       "      <td>MXY11</td>\n",
       "      <td>GHANA</td>\n",
       "      <td>PEN</td>\n",
       "      <td>147738.85</td>\n",
       "      <td>2024-01-11</td>\n",
       "      <td>01_january_2024.csv</td>\n",
       "      <td>Total</td>\n",
       "      <td>PERU</td>\n",
       "      <td>NEW SOL</td>\n",
       "      <td>PEN</td>\n",
       "      <td>0.250000</td>\n",
       "      <td>5.909554e+05</td>\n",
       "      <td>0.59</td>\n",
       "    </tr>\n",
       "  </tbody>\n",
       "</table>\n",
       "</div>"
      ],
      "text/plain": [
       "  Client               Country Currency  Transaction        Date  \\\n",
       "0  MXY11    KOREA, REPUBLIC OF      MOP    345127.88  2024-01-11   \n",
       "1  MXY11  SYRIAN ARAB REPUBLIC      NOK      7125.69  2024-01-11   \n",
       "2  MXY11                  EURO      BOB    245047.88  2024-01-11   \n",
       "3  MXY11    DOMINICAN REPUBLIC      LKR   9968657.26  2024-01-11   \n",
       "4  MXY11                 GHANA      PEN    147738.85  2024-01-11   \n",
       "\n",
       "            SourceFile SourceFolder    COUNTRY   CURRENCY CURR CODE  \\\n",
       "0  01_january_2024.csv        Total      MACAU     PATACA       MOP   \n",
       "1  01_january_2024.csv        Total     NORWAY      KRONE       NOK   \n",
       "2  01_january_2024.csv        Total    BOLIVIA  BOLIVIANO       BOB   \n",
       "3  01_january_2024.csv        Total  SRI LANKA      RUPEE       LKR   \n",
       "4  01_january_2024.csv        Total       PERU    NEW SOL       PEN   \n",
       "\n",
       "   BUDGET RATE           USD    USD_M  \n",
       "0     0.124414  2.774034e+06     2.77  \n",
       "1     0.097425  7.314022e+04     0.07  \n",
       "2     0.144682  1.693697e+06     1.69  \n",
       "3     0.002721  3.663776e+09  3663.78  \n",
       "4     0.250000  5.909554e+05     0.59  "
      ]
     },
     "execution_count": 25,
     "metadata": {},
     "output_type": "execute_result"
    }
   ],
   "source": [
    "df.head()"
   ]
  },
  {
   "cell_type": "code",
   "execution_count": 26,
   "metadata": {},
   "outputs": [],
   "source": [
    "df.to_csv('/Users/jesusadraz/Documents/marsh/src/data/Transactions/2024_2.csv', index=False)"
   ]
  },
  {
   "cell_type": "code",
   "execution_count": 27,
   "metadata": {},
   "outputs": [],
   "source": [
    "df_1 = pd.read_csv('/Users/jesusadraz/Documents/marsh/src/data/Transactions/2024_2.csv')"
   ]
  },
  {
   "cell_type": "code",
   "execution_count": 28,
   "metadata": {},
   "outputs": [
    {
     "data": {
      "text/html": [
       "<div>\n",
       "<style scoped>\n",
       "    .dataframe tbody tr th:only-of-type {\n",
       "        vertical-align: middle;\n",
       "    }\n",
       "\n",
       "    .dataframe tbody tr th {\n",
       "        vertical-align: top;\n",
       "    }\n",
       "\n",
       "    .dataframe thead th {\n",
       "        text-align: right;\n",
       "    }\n",
       "</style>\n",
       "<table border=\"1\" class=\"dataframe\">\n",
       "  <thead>\n",
       "    <tr style=\"text-align: right;\">\n",
       "      <th></th>\n",
       "      <th>Client</th>\n",
       "      <th>Country</th>\n",
       "      <th>Currency</th>\n",
       "      <th>Transaction</th>\n",
       "      <th>Date</th>\n",
       "      <th>SourceFile</th>\n",
       "      <th>SourceFolder</th>\n",
       "      <th>COUNTRY</th>\n",
       "      <th>CURRENCY</th>\n",
       "      <th>CURR CODE</th>\n",
       "      <th>BUDGET RATE</th>\n",
       "      <th>USD</th>\n",
       "      <th>USD_M</th>\n",
       "    </tr>\n",
       "  </thead>\n",
       "  <tbody>\n",
       "    <tr>\n",
       "      <th>0</th>\n",
       "      <td>MXY11</td>\n",
       "      <td>KOREA, REPUBLIC OF</td>\n",
       "      <td>MOP</td>\n",
       "      <td>345127.88</td>\n",
       "      <td>2024-01-11</td>\n",
       "      <td>01_january_2024.csv</td>\n",
       "      <td>Total</td>\n",
       "      <td>MACAU</td>\n",
       "      <td>PATACA</td>\n",
       "      <td>MOP</td>\n",
       "      <td>0.124414</td>\n",
       "      <td>2.774034e+06</td>\n",
       "      <td>2.77</td>\n",
       "    </tr>\n",
       "    <tr>\n",
       "      <th>1</th>\n",
       "      <td>MXY11</td>\n",
       "      <td>SYRIAN ARAB REPUBLIC</td>\n",
       "      <td>NOK</td>\n",
       "      <td>7125.69</td>\n",
       "      <td>2024-01-11</td>\n",
       "      <td>01_january_2024.csv</td>\n",
       "      <td>Total</td>\n",
       "      <td>NORWAY</td>\n",
       "      <td>KRONE</td>\n",
       "      <td>NOK</td>\n",
       "      <td>0.097425</td>\n",
       "      <td>7.314022e+04</td>\n",
       "      <td>0.07</td>\n",
       "    </tr>\n",
       "    <tr>\n",
       "      <th>2</th>\n",
       "      <td>MXY11</td>\n",
       "      <td>EURO</td>\n",
       "      <td>BOB</td>\n",
       "      <td>245047.88</td>\n",
       "      <td>2024-01-11</td>\n",
       "      <td>01_january_2024.csv</td>\n",
       "      <td>Total</td>\n",
       "      <td>BOLIVIA</td>\n",
       "      <td>BOLIVIANO</td>\n",
       "      <td>BOB</td>\n",
       "      <td>0.144682</td>\n",
       "      <td>1.693697e+06</td>\n",
       "      <td>1.69</td>\n",
       "    </tr>\n",
       "    <tr>\n",
       "      <th>3</th>\n",
       "      <td>MXY11</td>\n",
       "      <td>DOMINICAN REPUBLIC</td>\n",
       "      <td>LKR</td>\n",
       "      <td>9968657.26</td>\n",
       "      <td>2024-01-11</td>\n",
       "      <td>01_january_2024.csv</td>\n",
       "      <td>Total</td>\n",
       "      <td>SRI LANKA</td>\n",
       "      <td>RUPEE</td>\n",
       "      <td>LKR</td>\n",
       "      <td>0.002721</td>\n",
       "      <td>3.663776e+09</td>\n",
       "      <td>3663.78</td>\n",
       "    </tr>\n",
       "    <tr>\n",
       "      <th>4</th>\n",
       "      <td>MXY11</td>\n",
       "      <td>GHANA</td>\n",
       "      <td>PEN</td>\n",
       "      <td>147738.85</td>\n",
       "      <td>2024-01-11</td>\n",
       "      <td>01_january_2024.csv</td>\n",
       "      <td>Total</td>\n",
       "      <td>PERU</td>\n",
       "      <td>NEW SOL</td>\n",
       "      <td>PEN</td>\n",
       "      <td>0.250000</td>\n",
       "      <td>5.909554e+05</td>\n",
       "      <td>0.59</td>\n",
       "    </tr>\n",
       "  </tbody>\n",
       "</table>\n",
       "</div>"
      ],
      "text/plain": [
       "  Client               Country Currency  Transaction        Date  \\\n",
       "0  MXY11    KOREA, REPUBLIC OF      MOP    345127.88  2024-01-11   \n",
       "1  MXY11  SYRIAN ARAB REPUBLIC      NOK      7125.69  2024-01-11   \n",
       "2  MXY11                  EURO      BOB    245047.88  2024-01-11   \n",
       "3  MXY11    DOMINICAN REPUBLIC      LKR   9968657.26  2024-01-11   \n",
       "4  MXY11                 GHANA      PEN    147738.85  2024-01-11   \n",
       "\n",
       "            SourceFile SourceFolder    COUNTRY   CURRENCY CURR CODE  \\\n",
       "0  01_january_2024.csv        Total      MACAU     PATACA       MOP   \n",
       "1  01_january_2024.csv        Total     NORWAY      KRONE       NOK   \n",
       "2  01_january_2024.csv        Total    BOLIVIA  BOLIVIANO       BOB   \n",
       "3  01_january_2024.csv        Total  SRI LANKA      RUPEE       LKR   \n",
       "4  01_january_2024.csv        Total       PERU    NEW SOL       PEN   \n",
       "\n",
       "   BUDGET RATE           USD    USD_M  \n",
       "0     0.124414  2.774034e+06     2.77  \n",
       "1     0.097425  7.314022e+04     0.07  \n",
       "2     0.144682  1.693697e+06     1.69  \n",
       "3     0.002721  3.663776e+09  3663.78  \n",
       "4     0.250000  5.909554e+05     0.59  "
      ]
     },
     "execution_count": 28,
     "metadata": {},
     "output_type": "execute_result"
    }
   ],
   "source": [
    "df_1.head()"
   ]
  },
  {
   "cell_type": "code",
   "execution_count": 1,
   "metadata": {},
   "outputs": [],
   "source": [
    "import pandas as pd"
   ]
  },
  {
   "cell_type": "code",
   "execution_count": 2,
   "metadata": {},
   "outputs": [],
   "source": [
    "df = pd.read_csv(\"/Users/jesusadraz/Documents/marsh/src/data/Transactions/world-countries.csv\")"
   ]
  },
  {
   "cell_type": "code",
   "execution_count": 3,
   "metadata": {},
   "outputs": [
    {
     "data": {
      "text/html": [
       "<div>\n",
       "<style scoped>\n",
       "    .dataframe tbody tr th:only-of-type {\n",
       "        vertical-align: middle;\n",
       "    }\n",
       "\n",
       "    .dataframe tbody tr th {\n",
       "        vertical-align: top;\n",
       "    }\n",
       "\n",
       "    .dataframe thead th {\n",
       "        text-align: right;\n",
       "    }\n",
       "</style>\n",
       "<table border=\"1\" class=\"dataframe\">\n",
       "  <thead>\n",
       "    <tr style=\"text-align: right;\">\n",
       "      <th></th>\n",
       "      <th>Country</th>\n",
       "      <th>Currency</th>\n",
       "      <th>Region</th>\n",
       "    </tr>\n",
       "  </thead>\n",
       "  <tbody>\n",
       "    <tr>\n",
       "      <th>0</th>\n",
       "      <td>Afghanistan</td>\n",
       "      <td>AFN</td>\n",
       "      <td>Asia</td>\n",
       "    </tr>\n",
       "    <tr>\n",
       "      <th>1</th>\n",
       "      <td>Albania</td>\n",
       "      <td>ALL</td>\n",
       "      <td>Europe</td>\n",
       "    </tr>\n",
       "    <tr>\n",
       "      <th>2</th>\n",
       "      <td>Algeria</td>\n",
       "      <td>DZD</td>\n",
       "      <td>Africa</td>\n",
       "    </tr>\n",
       "    <tr>\n",
       "      <th>3</th>\n",
       "      <td>Andorra</td>\n",
       "      <td>EUR</td>\n",
       "      <td>Europe</td>\n",
       "    </tr>\n",
       "    <tr>\n",
       "      <th>4</th>\n",
       "      <td>Angola</td>\n",
       "      <td>AOA</td>\n",
       "      <td>Africa</td>\n",
       "    </tr>\n",
       "  </tbody>\n",
       "</table>\n",
       "</div>"
      ],
      "text/plain": [
       "       Country Currency  Region\n",
       "0  Afghanistan      AFN    Asia\n",
       "1      Albania      ALL  Europe\n",
       "2      Algeria      DZD  Africa\n",
       "3      Andorra      EUR  Europe\n",
       "4       Angola      AOA  Africa"
      ]
     },
     "execution_count": 3,
     "metadata": {},
     "output_type": "execute_result"
    }
   ],
   "source": [
    "df.head()"
   ]
  },
  {
   "cell_type": "code",
   "execution_count": 4,
   "metadata": {},
   "outputs": [],
   "source": [
    "df_2 = pd.read_csv(\"/Users/jesusadraz/Documents/marsh/src/data/Transactions/2024_2.csv\")"
   ]
  },
  {
   "cell_type": "code",
   "execution_count": 30,
   "metadata": {},
   "outputs": [],
   "source": [
    "df_4 = pd.read_csv(\"/Users/jesusadraz/Documents/marsh/src/data/Transactions/countries.csv\")"
   ]
  },
  {
   "cell_type": "code",
   "execution_count": 31,
   "metadata": {},
   "outputs": [
    {
     "data": {
      "text/html": [
       "<div>\n",
       "<style scoped>\n",
       "    .dataframe tbody tr th:only-of-type {\n",
       "        vertical-align: middle;\n",
       "    }\n",
       "\n",
       "    .dataframe tbody tr th {\n",
       "        vertical-align: top;\n",
       "    }\n",
       "\n",
       "    .dataframe thead th {\n",
       "        text-align: right;\n",
       "    }\n",
       "</style>\n",
       "<table border=\"1\" class=\"dataframe\">\n",
       "  <thead>\n",
       "    <tr style=\"text-align: right;\">\n",
       "      <th></th>\n",
       "      <th>Country</th>\n",
       "      <th>Region</th>\n",
       "    </tr>\n",
       "  </thead>\n",
       "  <tbody>\n",
       "    <tr>\n",
       "      <th>0</th>\n",
       "      <td>KOREA, REPUBLIC OF</td>\n",
       "      <td>Asia</td>\n",
       "    </tr>\n",
       "    <tr>\n",
       "      <th>1</th>\n",
       "      <td>SYRIAN ARAB REPUBLIC</td>\n",
       "      <td>Africa</td>\n",
       "    </tr>\n",
       "    <tr>\n",
       "      <th>2</th>\n",
       "      <td>EURO</td>\n",
       "      <td>Europe</td>\n",
       "    </tr>\n",
       "    <tr>\n",
       "      <th>3</th>\n",
       "      <td>DOMINICAN REPUBLIC</td>\n",
       "      <td>North America</td>\n",
       "    </tr>\n",
       "    <tr>\n",
       "      <th>4</th>\n",
       "      <td>GHANA</td>\n",
       "      <td>Africa</td>\n",
       "    </tr>\n",
       "  </tbody>\n",
       "</table>\n",
       "</div>"
      ],
      "text/plain": [
       "                Country         Region\n",
       "0    KOREA, REPUBLIC OF           Asia\n",
       "1  SYRIAN ARAB REPUBLIC         Africa\n",
       "2                  EURO         Europe\n",
       "3    DOMINICAN REPUBLIC  North America\n",
       "4                 GHANA         Africa"
      ]
     },
     "execution_count": 31,
     "metadata": {},
     "output_type": "execute_result"
    }
   ],
   "source": [
    "df_4.head()"
   ]
  },
  {
   "cell_type": "code",
   "execution_count": 32,
   "metadata": {},
   "outputs": [],
   "source": [
    "merged = pd.merge(df_2, df_4, how='left', left_on='Country', right_on='Country')"
   ]
  },
  {
   "cell_type": "code",
   "execution_count": 33,
   "metadata": {},
   "outputs": [
    {
     "data": {
      "text/html": [
       "<div>\n",
       "<style scoped>\n",
       "    .dataframe tbody tr th:only-of-type {\n",
       "        vertical-align: middle;\n",
       "    }\n",
       "\n",
       "    .dataframe tbody tr th {\n",
       "        vertical-align: top;\n",
       "    }\n",
       "\n",
       "    .dataframe thead th {\n",
       "        text-align: right;\n",
       "    }\n",
       "</style>\n",
       "<table border=\"1\" class=\"dataframe\">\n",
       "  <thead>\n",
       "    <tr style=\"text-align: right;\">\n",
       "      <th></th>\n",
       "      <th>Client</th>\n",
       "      <th>Country</th>\n",
       "      <th>Currency</th>\n",
       "      <th>Transaction</th>\n",
       "      <th>Date</th>\n",
       "      <th>SourceFile</th>\n",
       "      <th>SourceFolder</th>\n",
       "      <th>Country_2</th>\n",
       "      <th>Currency_2</th>\n",
       "      <th>Curr_Code</th>\n",
       "      <th>Budget_Rate</th>\n",
       "      <th>USD</th>\n",
       "      <th>USD_M</th>\n",
       "      <th>Region</th>\n",
       "    </tr>\n",
       "  </thead>\n",
       "  <tbody>\n",
       "    <tr>\n",
       "      <th>0</th>\n",
       "      <td>MXY11</td>\n",
       "      <td>KOREA, REPUBLIC OF</td>\n",
       "      <td>MOP</td>\n",
       "      <td>345127.88</td>\n",
       "      <td>2024-01-11</td>\n",
       "      <td>01_january_2024.csv</td>\n",
       "      <td>Total</td>\n",
       "      <td>MACAU</td>\n",
       "      <td>PATACA</td>\n",
       "      <td>MOP</td>\n",
       "      <td>0.124414</td>\n",
       "      <td>2.774034e+06</td>\n",
       "      <td>2.77</td>\n",
       "      <td>Asia</td>\n",
       "    </tr>\n",
       "    <tr>\n",
       "      <th>1</th>\n",
       "      <td>MXY11</td>\n",
       "      <td>SYRIAN ARAB REPUBLIC</td>\n",
       "      <td>NOK</td>\n",
       "      <td>7125.69</td>\n",
       "      <td>2024-01-11</td>\n",
       "      <td>01_january_2024.csv</td>\n",
       "      <td>Total</td>\n",
       "      <td>NORWAY</td>\n",
       "      <td>KRONE</td>\n",
       "      <td>NOK</td>\n",
       "      <td>0.097425</td>\n",
       "      <td>7.314022e+04</td>\n",
       "      <td>0.07</td>\n",
       "      <td>Africa</td>\n",
       "    </tr>\n",
       "    <tr>\n",
       "      <th>2</th>\n",
       "      <td>MXY11</td>\n",
       "      <td>EURO</td>\n",
       "      <td>BOB</td>\n",
       "      <td>245047.88</td>\n",
       "      <td>2024-01-11</td>\n",
       "      <td>01_january_2024.csv</td>\n",
       "      <td>Total</td>\n",
       "      <td>BOLIVIA</td>\n",
       "      <td>BOLIVIANO</td>\n",
       "      <td>BOB</td>\n",
       "      <td>0.144682</td>\n",
       "      <td>1.693697e+06</td>\n",
       "      <td>1.69</td>\n",
       "      <td>Europe</td>\n",
       "    </tr>\n",
       "    <tr>\n",
       "      <th>3</th>\n",
       "      <td>MXY11</td>\n",
       "      <td>DOMINICAN REPUBLIC</td>\n",
       "      <td>LKR</td>\n",
       "      <td>9968657.26</td>\n",
       "      <td>2024-01-11</td>\n",
       "      <td>01_january_2024.csv</td>\n",
       "      <td>Total</td>\n",
       "      <td>SRI LANKA</td>\n",
       "      <td>RUPEE</td>\n",
       "      <td>LKR</td>\n",
       "      <td>0.002721</td>\n",
       "      <td>3.663776e+09</td>\n",
       "      <td>3663.78</td>\n",
       "      <td>North America</td>\n",
       "    </tr>\n",
       "    <tr>\n",
       "      <th>4</th>\n",
       "      <td>MXY11</td>\n",
       "      <td>GHANA</td>\n",
       "      <td>PEN</td>\n",
       "      <td>147738.85</td>\n",
       "      <td>2024-01-11</td>\n",
       "      <td>01_january_2024.csv</td>\n",
       "      <td>Total</td>\n",
       "      <td>PERU</td>\n",
       "      <td>NEW SOL</td>\n",
       "      <td>PEN</td>\n",
       "      <td>0.250000</td>\n",
       "      <td>5.909554e+05</td>\n",
       "      <td>0.59</td>\n",
       "      <td>Africa</td>\n",
       "    </tr>\n",
       "  </tbody>\n",
       "</table>\n",
       "</div>"
      ],
      "text/plain": [
       "  Client               Country Currency  Transaction        Date  \\\n",
       "0  MXY11    KOREA, REPUBLIC OF      MOP    345127.88  2024-01-11   \n",
       "1  MXY11  SYRIAN ARAB REPUBLIC      NOK      7125.69  2024-01-11   \n",
       "2  MXY11                  EURO      BOB    245047.88  2024-01-11   \n",
       "3  MXY11    DOMINICAN REPUBLIC      LKR   9968657.26  2024-01-11   \n",
       "4  MXY11                 GHANA      PEN    147738.85  2024-01-11   \n",
       "\n",
       "            SourceFile SourceFolder  Country_2 Currency_2 Curr_Code  \\\n",
       "0  01_january_2024.csv        Total      MACAU     PATACA       MOP   \n",
       "1  01_january_2024.csv        Total     NORWAY      KRONE       NOK   \n",
       "2  01_january_2024.csv        Total    BOLIVIA  BOLIVIANO       BOB   \n",
       "3  01_january_2024.csv        Total  SRI LANKA      RUPEE       LKR   \n",
       "4  01_january_2024.csv        Total       PERU    NEW SOL       PEN   \n",
       "\n",
       "   Budget_Rate           USD    USD_M         Region  \n",
       "0     0.124414  2.774034e+06     2.77           Asia  \n",
       "1     0.097425  7.314022e+04     0.07         Africa  \n",
       "2     0.144682  1.693697e+06     1.69         Europe  \n",
       "3     0.002721  3.663776e+09  3663.78  North America  \n",
       "4     0.250000  5.909554e+05     0.59         Africa  "
      ]
     },
     "execution_count": 33,
     "metadata": {},
     "output_type": "execute_result"
    }
   ],
   "source": [
    "merged.head()"
   ]
  },
  {
   "cell_type": "code",
   "execution_count": 34,
   "metadata": {},
   "outputs": [],
   "source": [
    "merged.to_csv(\"/Users/jesusadraz/Documents/marsh/src/data/Transactions/2024_2.csv\", index=False)"
   ]
  }
 ],
 "metadata": {
  "kernelspec": {
   "display_name": "base",
   "language": "python",
   "name": "python3"
  },
  "language_info": {
   "codemirror_mode": {
    "name": "ipython",
    "version": 3
   },
   "file_extension": ".py",
   "mimetype": "text/x-python",
   "name": "python",
   "nbconvert_exporter": "python",
   "pygments_lexer": "ipython3",
   "version": "3.10.11"
  }
 },
 "nbformat": 4,
 "nbformat_minor": 2
}
